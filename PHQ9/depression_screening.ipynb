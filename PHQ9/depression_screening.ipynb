{
 "cells": [
  {
   "cell_type": "markdown",
   "metadata": {},
   "source": [
    "# PHQ-9 Depression Screening Analysis\n",
    "\n",
    "This notebook implements the PHQ-9 depression screening questionnaire with data storage functionality."
   ]
  },
  {
   "cell_type": "code",
   "execution_count": null,
   "metadata": {},
   "source": [
    "import pandas as pd\n",
    "import numpy as np\n",
    "from datetime import datetime\n",
    "import sqlite3\n",
    "import json"
   ]
  },
  {
   "cell_type": "code",
   "execution_count": null,
   "metadata": {},
   "source": [
    "# PHQ-9 Questions\n",
    "questions = [\n",
    "    \"Little interest or pleasure in doing things?\",\n",
    "    \"Feeling down, depressed, or hopeless?\",\n",
    "    \"Trouble falling or staying asleep, or sleeping too much?\",\n",
    "    \"Feeling tired or having little energy?\",\n",
    "    \"Poor appetite or overeating?\",\n",
    "    \"Feeling bad about yourself - or that you are a failure?\",\n",
    "    \"Trouble concentrating on things?\",\n",
    "    \"Moving or speaking slowly or being fidgety/restless?\",\n",
    "    \"Thoughts that you would be better off dead or of hurting yourself?\"\n",
    "]\n",
    "\n",
    "# Answer options and their scores\n",
    "options = {\n",
    "    0: \"Not at all\",\n",
    "    1: \"Several days\",\n",
    "    2: \"More than half the days\",\n",
    "    3: \"Nearly every day\"\n",
    "}"
   ]
  },
  {
   "cell_type": "code",
   "execution_count": null,
   "metadata": {},
   "source": [
    "def create_database():\n",
    "    \"\"\"Create SQLite database to store assessment results\"\"\"\n",
    "    conn = sqlite3.connect('depression_screening.db')\n",
    "    c = conn.cursor()\n",
    "    \n",
    "    c.execute('''\n",
    "        CREATE TABLE IF NOT EXISTS assessments (\n",
    "            id INTEGER PRIMARY KEY AUTOINCREMENT,\n",
    "            timestamp TEXT,\n",
    "            answers TEXT,\n",
    "            total_score INTEGER,\n",
    "            severity TEXT\n",
    "        )\n",
    "    ''')\n",
    "    \n",
    "    conn.commit()\n",
    "    conn.close()\n",
    "\n",
    "# Create database\n",
    "create_database()"
   ]
  },
  {
   "cell_type": "code",
   "execution_count": null,
   "metadata": {},
   "source": [
    "def get_severity(score):\n",
    "    \"\"\"Determine depression severity based on total score\"\"\"\n",
    "    if score <= 4:\n",
    "        return \"None-minimal\"\n",
    "    elif score <= 9:\n",
    "        return \"Mild\"\n",
    "    elif score <= 14:\n",
    "        return \"Moderate\"\n",
    "    elif score <= 19:\n",
    "        return \"Moderately Severe\"\n",
    "    else:\n",
    "        return \"Severe\"\n",
    "\n",
    "def get_recommendation(severity):\n",
    "    \"\"\"Get treatment recommendation based on severity\"\"\"\n",
    "    recommendations = {\n",
    "        \"None-minimal\": \"No treatment may be needed\",\n",
    "        \"Mild\": \"Watchful waiting; repeat PHQ-9 at follow-up\",\n",
    "        \"Moderate\": \"Treatment plan, considering counseling, follow-up and/or pharmacotherapy\",\n",
    "        \"Moderately Severe\": \"Active treatment with pharmacotherapy and/or psychotherapy\",\n",
    "        \"Severe\": \"Immediate initiation of pharmacotherapy and expedited referral to mental health specialist\"\n",
    "    }\n",
    "    return recommendations[severity]"
   ]
  },
  {
   "cell_type": "code",
   "execution_count": null,
   "metadata": {},
   "source": [
    "def conduct_assessment():\n",
    "    \"\"\"Conduct the PHQ-9 assessment and store results\"\"\"\n",
    "    answers = []\n",
    "    \n",
    "    print(\"PHQ-9 Depression Screening Questionnaire\")\n",
    "    print(\"\\nOver the last 2 weeks, how often have you been bothered by any of the following problems?\")\n",
    "    print(\"\\nScoring:\")\n",
    "    for score, label in options.items():\n",
    "        print(f\"{score} = {label}\")\n",
    "    \n",
    "    # Collect answers\n",
    "    for i, question in enumerate(questions, 1):\n",
    "        while True:\n",
    "            try:\n",
    "                answer = int(input(f\"\\n{i}. {question}\\nYour answer (0-3): \"))\n",
    "                if answer in options:\n",
    "                    answers.append(answer)\n",
    "                    break\n",
    "                else:\n",
    "                    print(\"Please enter a valid score (0-3)\")\n",
    "            except ValueError:\n",
    "                print(\"Please enter a valid number\")\n",
    "    \n",
    "    # Calculate results\n",
    "    total_score = sum(answers)\n",
    "    severity = get_severity(total_score)\n",
    "    recommendation = get_recommendation(severity)\n",
    "    \n",
    "    # Store results\n",
    "    conn = sqlite3.connect('depression_screening.db')\n",
    "    c = conn.cursor()\n",
    "    c.execute(\n",
    "        \"INSERT INTO assessments (timestamp, answers, total_score, severity) VALUES (?, ?, ?, ?)\",\n",
    "        (datetime.now().isoformat(), json.dumps(answers), total_score, severity)\n",
    "    )\n",
    "    conn.commit()\n",
    "    conn.close()\n",
    "    \n",
    "    # Display results\n",
    "    print(f\"\\nResults:\")\n",
    "    print(f\"Total Score: {total_score}\")\n",
    "    print(f\"Depression Severity: {severity}\")\n",
    "    print(f\"Recommendation: {recommendation}\")\n",
    "    \n",
    "    return total_score, severity, recommendation"
   ]
  },
  {
   "cell_type": "code",
   "execution_count": null,
   "metadata": {},
   "source": [
    "def view_history():\n",
    "    \"\"\"View assessment history\"\"\"\n",
    "    conn = sqlite3.connect('depression_screening.db')\n",
    "    df = pd.read_sql_query(\"SELECT * FROM assessments\", conn)\n",
    "    conn.close()\n",
    "    \n",
    "    if len(df) == 0:\n",
    "        print(\"No assessment history found.\")\n",
    "        return\n",
    "    \n",
    "    # Convert timestamp to datetime\n",
    "    df['timestamp'] = pd.to_datetime(df['timestamp'])\n",
    "    \n",
    "    # Parse answers from JSON\n",
    "    df['answers'] = df['answers'].apply(json.loads)\n",
    "    \n",
    "    print(\"\\nAssessment History:\")\n",
    "    for _, row in df.iterrows():\n",
    "        print(f\"\\nDate: {row['timestamp'].strftime('%Y-%m-%d %H:%M:%S')}\")\n",
    "        print(f\"Score: {row['total_score']}\")\n",
    "        print(f\"Severity: {row['severity']}\")\n",
    "        \n",
    "    return df"
   ]
  },
  {
   "cell_type": "code",
   "execution_count": null,
   "metadata": {},
   "source": [
    "# Run an assessment\n",
    "total_score, severity, recommendation = conduct_assessment()"
   ]
  },
  {
   "cell_type": "code",
   "execution_count": null,
   "metadata": {},
   "source": [
    "# View assessment history\n",
    "history_df = view_history()"
   ]
  }
 ],
 "metadata": {
  "kernelspec": {
   "display_name": "Python 3",
   "language": "python",
   "name": "python3"
  },
  "language_info": {
   "codemirror_mode": {
    "name": "ipython",
    "version": 3
   },
   "file_extension": ".py",
   "mimetype": "text/x-python",
   "name": "python",
   "nbconvert_exporter": "python",
   "pygments_lexer": "ipython3",
   "version": "3.8.0"
  }
 },
 "nbformat": 4,
 "nbformat_minor": 4
}